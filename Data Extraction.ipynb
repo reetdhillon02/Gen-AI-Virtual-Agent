{
 "cells": [
  {
   "cell_type": "code",
   "execution_count": 5,
   "id": "f3dd0a24-8a34-4e58-869a-7613186df42b",
   "metadata": {},
   "outputs": [],
   "source": [
    "# IMPORTING LIBRARIES\n",
    "\n",
    "from langchain.document_loaders import PyPDFLoader, DirectoryLoader\n",
    "import pickle"
   ]
  },
  {
   "cell_type": "code",
   "execution_count": 9,
   "id": "7698d15e-087e-44cd-ab79-8146e063c61f",
   "metadata": {},
   "outputs": [
    {
     "name": "stderr",
     "output_type": "stream",
     "text": [
      "100%|██████████████████████████████████████████████████████████████████████████████████| 20/20 [00:05<00:00,  3.66it/s]\n"
     ]
    }
   ],
   "source": [
    "DATA_PATH = r\"Data\"\n",
    "\n",
    "loader = DirectoryLoader(DATA_PATH, glob=\"*.pdf\", loader_cls=PyPDFLoader ,\n",
    "                         silent_errors = True ,\n",
    "                         show_progress = True ,\n",
    "                         use_multithreading = True ,\n",
    "                         )\n",
    "documents = loader.load()"
   ]
  },
  {
   "cell_type": "code",
   "execution_count": 10,
   "id": "02a04f66-bb2e-4bf8-bac2-25d3cf77b314",
   "metadata": {},
   "outputs": [],
   "source": [
    "# to save documents object\n",
    "with open('documents', 'wb') as documents_file:\n",
    "  pickle.dump(documents, documents_file)"
   ]
  }
 ],
 "metadata": {
  "kernelspec": {
   "display_name": "Python 3 (ipykernel)",
   "language": "python",
   "name": "python3"
  },
  "language_info": {
   "codemirror_mode": {
    "name": "ipython",
    "version": 3
   },
   "file_extension": ".py",
   "mimetype": "text/x-python",
   "name": "python",
   "nbconvert_exporter": "python",
   "pygments_lexer": "ipython3",
   "version": "3.12.7"
  }
 },
 "nbformat": 4,
 "nbformat_minor": 5
}
