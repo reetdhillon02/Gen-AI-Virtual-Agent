{
 "cells": [
  {
   "cell_type": "code",
   "execution_count": 1,
   "id": "a904663a-30ed-41d4-b14c-eb6ce4434860",
   "metadata": {},
   "outputs": [],
   "source": [
    "# IMPORTING LIBRARIES\n",
    "\n",
    "from langchain_community.vectorstores import FAISS\n",
    "from langchain.embeddings import HuggingFaceBgeEmbeddings\n",
    "import pickle"
   ]
  },
  {
   "cell_type": "code",
   "execution_count": 2,
   "id": "8d23e925-7e8c-40e9-840b-3c09cce79b85",
   "metadata": {},
   "outputs": [],
   "source": [
    "# to read documents object\n",
    "with open('documents', 'rb') as documents_file:\n",
    "  documents = pickle.load(documents_file)"
   ]
  },
  {
   "cell_type": "code",
   "execution_count": 3,
   "id": "2f264950-520a-4bef-b622-ce9c9c846a49",
   "metadata": {
    "scrolled": true
   },
   "outputs": [
    {
     "name": "stderr",
     "output_type": "stream",
     "text": [
      "C:\\Users\\hp\\AppData\\Local\\Temp\\ipykernel_17708\\1658742657.py:9: LangChainDeprecationWarning: The class `HuggingFaceBgeEmbeddings` was deprecated in LangChain 0.2.2 and will be removed in 1.0. An updated version of the class exists in the :class:`~langchain-huggingface package and should be used instead. To use it run `pip install -U :class:`~langchain-huggingface` and import as `from :class:`~langchain_huggingface import HuggingFaceEmbeddings``.\n",
      "  embeddings = HuggingFaceBgeEmbeddings(\n"
     ]
    }
   ],
   "source": [
    "# path to store vector embeddings\n",
    "\n",
    "DB_FAISS_PATH = \"vectorstores/BAAI/\"\n",
    "\n",
    "model_name = \"BAAI/bge-small-en-v1.5\"\n",
    "model_kwargs = {'device': 'cuda'}\n",
    "encode_kwargs = {'normalize_embeddings': True}\n",
    "\n",
    "embeddings = HuggingFaceBgeEmbeddings(\n",
    "    model_name = model_name,\n",
    "    encode_kwargs = encode_kwargs\n",
    ")"
   ]
  },
  {
   "cell_type": "code",
   "execution_count": null,
   "id": "d6802d49-3f60-4f9a-9655-5e93b846f31d",
   "metadata": {},
   "outputs": [],
   "source": []
  },
  {
   "cell_type": "code",
   "execution_count": 4,
   "id": "ffbc3528-8fe5-47a9-9d9a-e87e9bdfe47a",
   "metadata": {},
   "outputs": [],
   "source": [
    "# saving embeddings to vector database\n",
    "\n",
    "db = FAISS.from_documents( documents, embeddings)\n",
    "db.save_local(DB_FAISS_PATH)"
   ]
  },
  {
   "cell_type": "code",
   "execution_count": null,
   "id": "4110c6c7-6ede-46b5-ad2f-af8ecb26d9d9",
   "metadata": {},
   "outputs": [],
   "source": []
  },
  {
   "cell_type": "code",
   "execution_count": 5,
   "id": "91e79e39-2d52-4601-bb05-b3b3fa36e84a",
   "metadata": {},
   "outputs": [],
   "source": [
    "# loading retriever\n",
    "\n",
    "db = FAISS.load_local(DB_FAISS_PATH, embeddings, allow_dangerous_deserialization= True)\n",
    "faiss_retriever = db.as_retriever(search_kwargs = {\"k\":3})"
   ]
  },
  {
   "cell_type": "code",
   "execution_count": 6,
   "id": "8aea9865-73fd-407e-bc88-edaee1893b97",
   "metadata": {},
   "outputs": [
    {
     "name": "stderr",
     "output_type": "stream",
     "text": [
      "C:\\Users\\hp\\AppData\\Local\\Temp\\ipykernel_17708\\2229939467.py:1: LangChainDeprecationWarning: The method `BaseRetriever.get_relevant_documents` was deprecated in langchain-core 0.1.46 and will be removed in 1.0. Use :meth:`~invoke` instead.\n",
      "  faiss_retriever.get_relevant_documents(\"What is Natya Shastra?\")\n"
     ]
    },
    {
     "data": {
      "text/plain": [
       "[Document(id='163c57ac-f4dd-4b8f-af85-3233fb6f1db4', metadata={'source': 'Data\\\\Classical Dance.pdf', 'page': 1, 'page_label': '2'}, page_content='The Natya Shastra is the foundational treatise for classical dances of India, and this text is attributed \\nto the ancient scholar Bharata Muni. Its first complete compilation is dated to between 200 BCE and \\n200 CE, but estimates vary between 500 BCE and 500 CE. The most studied version of the Natya \\nShastra text consists of about 6000 verses structured into 36 chapters. The text, states Natalia \\nLidova, describes the theory of Tāṇḍava dance (Shiva), the theory of rasa, of bhāva, expression, \\ngestures, acting techniques, basic steps, standing postures – all of which are part of Indian classical \\ndances. Dance and performance arts, states this ancient text, are a form of expression of spiritual \\nideas, virtues and the essence of scriptures. \\n \\nPerformance arts and culture \\n \\nLet Nātya (drama and dance) be the fifth vedic scripture. \\nCombined with an epic story, \\ntending to virtue, wealth, joy and spiritual freedom, \\nit must contain the significance of every scripture, \\nand forward every art. \\n \\n— Nātyaśāstra 1.14–15 \\n \\nWhile the Natya Shastra is the revered ancient text in the Hindu tradition, there are numerous other \\nancient and medieval Sanskrit dance-drama related texts that further discuss and expand on the \\nclassical repertoire of performance arts, such as the Abhinaya Darpana, Abhinava Bharati, Natya \\nDarpana, Bhava Prakasa and many others. The term \"classical\" (Sanskrit: \"Shastriya\") denotes the \\nancient Indian Shastra-based performing arts. \\n \\nThe text Natya Shastra describes religious arts as a form as margi, or a \"spiritual traditional path\" \\nthat liberates the soul, while the folk entertainment is called desi, or a \"regional popular practice\". \\n \\nIndian classical dances are traditionally performed as an expressive drama-dance form of religious \\nperformance art, related to Vaishnavism, Shaivism, Shaktism, pan-Hindu Epics and the Vedic \\nliterature, or a folksy entertainment that includes story-telling from Sanskrit or regional language \\nplays. As a religious art, they are either performed inside the sanctum of a Hindu temple, or near it. \\nFolksy entertainment may also be performed in temple grounds or any fairground, typically in a rural \\nsetting by travelling troupes of artists; alternatively, they have been performed inside the halls of \\nroyal courts or public squares during festivals. \\nHowever, this is not the case for Kathak, Manipuri and Chhau as it has their own uniqueness. Kathak \\ncan be also performed on courtyards of mosques and had Muslim elements while Manipuri had the \\nhuyen langlon genre which focuses on combat. Like Manipuri, Chhau also had elements on combat. '),\n",
       " Document(id='db166302-633f-4f83-bcaa-36d46a56472a', metadata={'source': 'Data\\\\Bharatanatyam.pdf', 'page': 1, 'page_label': '2'}, page_content='framework for musical notes), and tam for talam (rhythm). The term Natyam is a Sanskrit word for \\n\"dance\". The compound word Bharatanatyam is seen to connote a dance that harmoniously \\nexpresses bhavam, ragam and talam. \\n \\nHistory \\nThe theoretical foundations of dance Bharatanatyam are found first in Kootha Nool in Tamil and \\nthen referred also in Natya Shastra, a Sanskrit text of performance arts. \\n \\nNatya Shastra is attributed to the ancient scholar Bharata Muni, and its first complete compilation is \\ndated to between 200 BCE and 200 CE, but estimates vary between 500 BCE and 500 CE. The most \\nstudied version of the Natya Shastra text consists of about 6000 verses structured into 36 chapters. \\nThe text, states Natalia Lidova, describes the theory of Tāṇḍava dance (Shiva), the theory of rasa, of \\nbhāva, expression, gestures, acting techniques, basic steps, standing postures—all of which are part \\nof Indian classical dances. Dance and performance arts, states this text, are a form of expression of \\nspiritual ideas, virtues and the essence of scriptures. \\n \\nHistorical references to dance are found in the Tamil epics Silappatikaram (c. 2nd century CE) and \\nManimegalai (c. 6th century). The ancient text Silappatikaram, includes a story of a dancing girl \\nnamed Madhavi; it describes the dance training regimen called Arangatrau Kathai of Madhavi in \\nverses 113 through 159. The carvings in Kanchipuram\\'s Shiva temple that have been dated to 6th to \\n9th century CE suggest dance was a well-developed performance art by about the mid 1st \\nmillennium CE. \\n \\nA famous example of illustrative sculpture is in the southern gateway of the Chidambaram temple \\n(≈12th century) dedicated to the Hindu god Shiva, where 108 poses, described as karanas in the \\nNatya Shastra, are carved in stone. \\n \\nBharatanatyam shares the dance poses of many ancient Shiva sculptures in Hindu temples. The Cave \\n1 of the Badami cave temples, dated to the 7th century, portrays the Tandava-dancing Shiva as \\nNataraja. The image, 5 feet (1.5 m) tall, has 18 arms in a form that expresses the dance positions \\narranged in a geometric pattern. The arms of Shiva express mudras (symbolic hand gestures), that \\nare used in Bharatanatyam. \\n \\nDevadasis, anti-dance movement, colonial ban, and the decline \\nSome colonial Indologists and modern authors have argued that Bharatanatyam is a descendant of \\nan ancient Devadasi (lit.\\u2009\\'servant girls of Devas\\') culture, suggesting a historical origin back to \\nbetween 300 BCE and 300 CE. Modern scholars have questioned this theory for lack of any direct \\ntextual or archeological evidence. Historic sculptures and texts do describe and project dancing girls, \\nas well as temple quarters dedicated to women, but they do not state them to be courtesans and \\nprostitutes as alleged by early colonial Indologists. According to Davesh Soneji, a critical examination '),\n",
       " Document(id='021c3944-41a0-4220-b9b1-72289246e559', metadata={'source': 'Data\\\\Kathak.pdf', 'page': 6, 'page_label': '7'}, page_content='Most of the Nritta performance is abstract, fast and rhythmic aspect of Kathak. In a Kathak nritta, as \\nwith all classical Indian dance forms, the viewer is presented with pure movement, wherein the \\nemphasis is the beauty in motion, form, speed, range and pattern. It aims to engage the senses \\n(prakriti) of the audience. \\n \\nExpressive dance (Nritya) \\nNritya is slower and expressive aspect of Kathak that attempts to communicate feelings, storyline \\nparticularly with spiritual themes in Hindu dance traditions. In a nritya, the dance expands to include \\nwords, musical notes and gestures to articulate a legend or message, it is more than sensory \\nenjoyment, it aims to engage the emotions and mind of the viewer. \\n \\nThe expressiveness of Kathak is also found in other classical dances of India. Its roots are found in \\nthe Natyashastra text which defines drama in verse 6.10 as that which aesthetically arouses joy in \\nthe spectator, through the medium of actor\\'s art of communication, that helps connect and \\ntransport the individual into a super sensual inner state of being. The Natya connects through \\nabhinaya (literally, \"carrying to the spectators\"), that is applying body-speech-mind and scene, \\nwherein asserts Natyashastra, the actors communicate to the audience, through song and music. \\nDrama in this ancient Sanskrit text, thus is an art to engage every aspect of life, in order to glorify \\nand gift a state of joyful consciousness. According to Massey, another important ancient text that \\nhas influenced Kathak is the Abhinaya Darpanam of Nandikeshvara (~2nd century CE). \\n \\nIn Kathak, abhinaya is in the form of expressive gestures and pantomime set to music that usually \\noutline a legend or the plot of a well known story. The gestures and facial expressions convey the ras \\n(sentiment, emotional taste) and bhava (mood) of the underlying story. In the Hindu texts on dance, \\nthe guru and the artists successfully express the spiritual ideas by paying attention to four aspects of \\na performance: Angik (gestures and body language), Vachik (song, recitation, music and rhythm), \\nAharya (dress, make-up, jewelry), and Satvik (artist\\'s mental disposition and emotional connection \\nwith the story and audience, wherein the artist\\'s inner and outer state resonates). A Kathak nritya \\nperformance, however grants flexibility to the artists and invites improvisation, and it may not be \\naccompanied with a song or recital about the legend. The stories in Kathak performance generally \\ntend to be about the Hindu god Krishna (or in some cases Shiva or Devi), and the stories come from \\nsources such as the Bhagavata Purana, or the Indian Epics. This form of expressiveness is also found \\nin thumri and Persian ghazals. \\n \\nDresses \\nThe dresses vary among Kathak performers, and find their sources in either Hindu or Muslim culture. \\n \\nThe Hindu dress for female dancers has two variations.One is based on a Sari, but is worn in a style \\ndifferent from the customary style that goes over the left shoulder. A Kathak artist generally wraps \\nthe sari around the waist and it hangs down from the left. A blouse called choli covers the upper \\nbody. The artist may wear a scarf (called orhni in some places). Hair, face, ear, neck, hand, wrist and ')]"
      ]
     },
     "execution_count": 6,
     "metadata": {},
     "output_type": "execute_result"
    }
   ],
   "source": [
    "faiss_retriever.get_relevant_documents(\"What is Natya Shastra?\")"
   ]
  }
 ],
 "metadata": {
  "kernelspec": {
   "display_name": "Python 3 (ipykernel)",
   "language": "python",
   "name": "python3"
  },
  "language_info": {
   "codemirror_mode": {
    "name": "ipython",
    "version": 3
   },
   "file_extension": ".py",
   "mimetype": "text/x-python",
   "name": "python",
   "nbconvert_exporter": "python",
   "pygments_lexer": "ipython3",
   "version": "3.12.7"
  }
 },
 "nbformat": 4,
 "nbformat_minor": 5
}
